{
  "nbformat": 4,
  "nbformat_minor": 0,
  "metadata": {
    "colab": {
      "name": "Predicting Diamonds Prices.ipynb",
      "provenance": [],
      "collapsed_sections": []
    },
    "kernelspec": {
      "name": "python3",
      "display_name": "Python 3"
    },
    "language_info": {
      "name": "python"
    }
  },
  "cells": [
    {
      "cell_type": "markdown",
      "metadata": {
        "id": "_c6sWGrnBk9R"
      },
      "source": [
        ""
      ]
    },
    {
      "cell_type": "code",
      "metadata": {
        "colab": {
          "base_uri": "https://localhost:8080/"
        },
        "id": "M1nXhGhF9Y69",
        "outputId": "ce936e55-0d84-47ed-dea7-d15bceaee9f2"
      },
      "source": [
        "import pandas as pd\n",
        "import matplotlib as mpl\n",
        "import matplotlib.pyplot as plt\n",
        "import numpy as np\n",
        "%matplotlib inline\n",
        "mpl.rcParams['figure.dpi'] = 400\n",
        "\n",
        "from google.colab import drive\n",
        "drive.mount(\"/content/drive\")\n",
        "df = pd.read_csv(\"/content/drive/My Drive/Udacity/diamonds.csv\")\n",
        "df1 = pd.read_csv(\"/content/drive/My Drive/Udacity/new-diamonds.csv\")"
      ],
      "execution_count": 1,
      "outputs": [
        {
          "output_type": "stream",
          "text": [
            "Drive already mounted at /content/drive; to attempt to forcibly remount, call drive.mount(\"/content/drive\", force_remount=True).\n"
          ],
          "name": "stdout"
        }
      ]
    },
    {
      "cell_type": "code",
      "metadata": {
        "colab": {
          "base_uri": "https://localhost:8080/",
          "height": 204
        },
        "id": "387RVCtmBY1Q",
        "outputId": "6299cefb-14f5-4cb6-f767-a8e25143df87"
      },
      "source": [
        "df.head(5)"
      ],
      "execution_count": 2,
      "outputs": [
        {
          "output_type": "execute_result",
          "data": {
            "text/html": [
              "<div>\n",
              "<style scoped>\n",
              "    .dataframe tbody tr th:only-of-type {\n",
              "        vertical-align: middle;\n",
              "    }\n",
              "\n",
              "    .dataframe tbody tr th {\n",
              "        vertical-align: top;\n",
              "    }\n",
              "\n",
              "    .dataframe thead th {\n",
              "        text-align: right;\n",
              "    }\n",
              "</style>\n",
              "<table border=\"1\" class=\"dataframe\">\n",
              "  <thead>\n",
              "    <tr style=\"text-align: right;\">\n",
              "      <th></th>\n",
              "      <th>Unnamed: 0</th>\n",
              "      <th>carat</th>\n",
              "      <th>cut</th>\n",
              "      <th>cut_ord</th>\n",
              "      <th>color</th>\n",
              "      <th>clarity</th>\n",
              "      <th>clarity_ord</th>\n",
              "      <th>price</th>\n",
              "    </tr>\n",
              "  </thead>\n",
              "  <tbody>\n",
              "    <tr>\n",
              "      <th>0</th>\n",
              "      <td>1</td>\n",
              "      <td>0.51</td>\n",
              "      <td>Premium</td>\n",
              "      <td>4</td>\n",
              "      <td>F</td>\n",
              "      <td>VS1</td>\n",
              "      <td>4</td>\n",
              "      <td>1749</td>\n",
              "    </tr>\n",
              "    <tr>\n",
              "      <th>1</th>\n",
              "      <td>2</td>\n",
              "      <td>2.25</td>\n",
              "      <td>Fair</td>\n",
              "      <td>1</td>\n",
              "      <td>G</td>\n",
              "      <td>I1</td>\n",
              "      <td>1</td>\n",
              "      <td>7069</td>\n",
              "    </tr>\n",
              "    <tr>\n",
              "      <th>2</th>\n",
              "      <td>3</td>\n",
              "      <td>0.70</td>\n",
              "      <td>Very Good</td>\n",
              "      <td>3</td>\n",
              "      <td>E</td>\n",
              "      <td>VS2</td>\n",
              "      <td>5</td>\n",
              "      <td>2757</td>\n",
              "    </tr>\n",
              "    <tr>\n",
              "      <th>3</th>\n",
              "      <td>4</td>\n",
              "      <td>0.47</td>\n",
              "      <td>Good</td>\n",
              "      <td>2</td>\n",
              "      <td>F</td>\n",
              "      <td>VS1</td>\n",
              "      <td>4</td>\n",
              "      <td>1243</td>\n",
              "    </tr>\n",
              "    <tr>\n",
              "      <th>4</th>\n",
              "      <td>5</td>\n",
              "      <td>0.30</td>\n",
              "      <td>Ideal</td>\n",
              "      <td>5</td>\n",
              "      <td>G</td>\n",
              "      <td>VVS1</td>\n",
              "      <td>7</td>\n",
              "      <td>789</td>\n",
              "    </tr>\n",
              "  </tbody>\n",
              "</table>\n",
              "</div>"
            ],
            "text/plain": [
              "   Unnamed: 0  carat        cut  cut_ord color clarity  clarity_ord  price\n",
              "0           1   0.51    Premium        4     F     VS1            4   1749\n",
              "1           2   2.25       Fair        1     G      I1            1   7069\n",
              "2           3   0.70  Very Good        3     E     VS2            5   2757\n",
              "3           4   0.47       Good        2     F     VS1            4   1243\n",
              "4           5   0.30      Ideal        5     G    VVS1            7    789"
            ]
          },
          "metadata": {
            "tags": []
          },
          "execution_count": 2
        }
      ]
    },
    {
      "cell_type": "code",
      "metadata": {
        "colab": {
          "base_uri": "https://localhost:8080/",
          "height": 295
        },
        "id": "G1xmD22jCXfU",
        "outputId": "6dcab296-c759-4914-aa83-274e22526422"
      },
      "source": [
        "fig, ax = plt.subplots()\n",
        "ax.scatter(df[\"carat\"], df[\"price\"], color = \"g\", marker = \".\")\n",
        "ax.set_xlabel(\"carat\")\n",
        "ax.set_ylabel(\"price($)\")\n",
        "ax.set_title(\"Carat vs Price of Diamonds\")\n",
        "plt.show()"
      ],
      "execution_count": 3,
      "outputs": [
        {
          "output_type": "display_data",
          "data": {
            "image/png": "[encoded data removed]",
            "text/plain": [
              "<Figure size 432x288 with 1 Axes>"
            ]
          },
          "metadata": {
            "tags": [],
            "needs_background": "light"
          }
        }
      ]
    },
    {
      "cell_type": "code",
      "metadata": {
        "colab": {
          "base_uri": "https://localhost:8080/"
        },
        "id": "C0psW2CRE-O9",
        "outputId": "323fc024-6c28-41e9-a04d-6b6559439a4c"
      },
      "source": [
        "from sklearn.linear_model import LinearRegression\n",
        "x = df[['carat','cut_ord', 'clarity_ord']]\n",
        "y = df.price\n",
        "lm1 = LinearRegression()\n",
        "lm1.fit(x,y)\n",
        "print(lm1.intercept_)\n",
        "print(lm1.coef_)"
      ],
      "execution_count": 4,
      "outputs": [
        {
          "output_type": "stream",
          "text": [
            "-5255.223146477377\n",
            "[8363.41665765  160.37858283  457.80181294]\n"
          ],
          "name": "stdout"
        }
      ]
    },
    {
      "cell_type": "code",
      "metadata": {
        "colab": {
          "base_uri": "https://localhost:8080/"
        },
        "id": "qN10aGeCIBBW",
        "outputId": "91b4667c-ad9f-406c-9493-7d36fd225e9c"
      },
      "source": [
        "list(zip(['carat', 'cut', 'clarity'],lm1.coef_))"
      ],
      "execution_count": 5,
      "outputs": [
        {
          "output_type": "execute_result",
          "data": {
            "text/plain": [
              "[('carat', 8363.416657653941),\n",
              " ('cut', 160.37858283100235),\n",
              " ('clarity', 457.8018129355186)]"
            ]
          },
          "metadata": {
            "tags": []
          },
          "execution_count": 5
        }
      ]
    },
    {
      "cell_type": "code",
      "metadata": {
        "colab": {
          "base_uri": "https://localhost:8080/",
          "height": 204
        },
        "id": "anKuvVAS_Y30",
        "outputId": "7a57643e-3d16-48a5-e303-935df886f054"
      },
      "source": [
        "df1.head(5)"
      ],
      "execution_count": 6,
      "outputs": [
        {
          "output_type": "execute_result",
          "data": {
            "text/html": [
              "<div>\n",
              "<style scoped>\n",
              "    .dataframe tbody tr th:only-of-type {\n",
              "        vertical-align: middle;\n",
              "    }\n",
              "\n",
              "    .dataframe tbody tr th {\n",
              "        vertical-align: top;\n",
              "    }\n",
              "\n",
              "    .dataframe thead th {\n",
              "        text-align: right;\n",
              "    }\n",
              "</style>\n",
              "<table border=\"1\" class=\"dataframe\">\n",
              "  <thead>\n",
              "    <tr style=\"text-align: right;\">\n",
              "      <th></th>\n",
              "      <th>Unnamed: 0</th>\n",
              "      <th>carat</th>\n",
              "      <th>cut</th>\n",
              "      <th>cut_ord</th>\n",
              "      <th>color</th>\n",
              "      <th>clarity</th>\n",
              "      <th>clarity_ord</th>\n",
              "    </tr>\n",
              "  </thead>\n",
              "  <tbody>\n",
              "    <tr>\n",
              "      <th>0</th>\n",
              "      <td>1</td>\n",
              "      <td>1.22</td>\n",
              "      <td>Premium</td>\n",
              "      <td>4</td>\n",
              "      <td>G</td>\n",
              "      <td>SI1</td>\n",
              "      <td>3</td>\n",
              "    </tr>\n",
              "    <tr>\n",
              "      <th>1</th>\n",
              "      <td>2</td>\n",
              "      <td>1.01</td>\n",
              "      <td>Good</td>\n",
              "      <td>2</td>\n",
              "      <td>G</td>\n",
              "      <td>VS2</td>\n",
              "      <td>5</td>\n",
              "    </tr>\n",
              "    <tr>\n",
              "      <th>2</th>\n",
              "      <td>3</td>\n",
              "      <td>0.71</td>\n",
              "      <td>Very Good</td>\n",
              "      <td>3</td>\n",
              "      <td>I</td>\n",
              "      <td>VS2</td>\n",
              "      <td>5</td>\n",
              "    </tr>\n",
              "    <tr>\n",
              "      <th>3</th>\n",
              "      <td>4</td>\n",
              "      <td>1.01</td>\n",
              "      <td>Ideal</td>\n",
              "      <td>5</td>\n",
              "      <td>D</td>\n",
              "      <td>SI2</td>\n",
              "      <td>2</td>\n",
              "    </tr>\n",
              "    <tr>\n",
              "      <th>4</th>\n",
              "      <td>5</td>\n",
              "      <td>0.27</td>\n",
              "      <td>Ideal</td>\n",
              "      <td>5</td>\n",
              "      <td>H</td>\n",
              "      <td>VVS2</td>\n",
              "      <td>6</td>\n",
              "    </tr>\n",
              "  </tbody>\n",
              "</table>\n",
              "</div>"
            ],
            "text/plain": [
              "   Unnamed: 0  carat        cut  cut_ord color clarity  clarity_ord\n",
              "0           1   1.22    Premium        4     G     SI1            3\n",
              "1           2   1.01       Good        2     G     VS2            5\n",
              "2           3   0.71  Very Good        3     I     VS2            5\n",
              "3           4   1.01      Ideal        5     D     SI2            2\n",
              "4           5   0.27      Ideal        5     H    VVS2            6"
            ]
          },
          "metadata": {
            "tags": []
          },
          "execution_count": 6
        }
      ]
    },
    {
      "cell_type": "code",
      "metadata": {
        "colab": {
          "base_uri": "https://localhost:8080/"
        },
        "id": "kyPPNQpJvkJc",
        "outputId": "1db3be28-f7bc-4487-8a33-9cc28440e16a"
      },
      "source": [
        "x_test = df1[['carat','cut_ord', 'clarity_ord']]\n",
        "pred = lm1.predict(x_test)\n",
        "pred"
      ],
      "execution_count": 7,
      "outputs": [
        {
          "output_type": "execute_result",
          "data": {
            "text/plain": [
              "array([6963.06494599, 5801.59390809, 3452.94749363, ..., 5380.90553136,\n",
              "       2132.95253552, 5046.36886505])"
            ]
          },
          "metadata": {
            "tags": []
          },
          "execution_count": 7
        }
      ]
    },
    {
      "cell_type": "code",
      "metadata": {
        "colab": {
          "base_uri": "https://localhost:8080/",
          "height": 359
        },
        "id": "4QxAQ4ygwi1_",
        "outputId": "6fd31502-98d3-4426-c79e-cc8f3c425b26"
      },
      "source": [
        "df1['pred_price']= pred\n",
        "df1.head(10)"
      ],
      "execution_count": 8,
      "outputs": [
        {
          "output_type": "execute_result",
          "data": {
            "text/html": [
              "<div>\n",
              "<style scoped>\n",
              "    .dataframe tbody tr th:only-of-type {\n",
              "        vertical-align: middle;\n",
              "    }\n",
              "\n",
              "    .dataframe tbody tr th {\n",
              "        vertical-align: top;\n",
              "    }\n",
              "\n",
              "    .dataframe thead th {\n",
              "        text-align: right;\n",
              "    }\n",
              "</style>\n",
              "<table border=\"1\" class=\"dataframe\">\n",
              "  <thead>\n",
              "    <tr style=\"text-align: right;\">\n",
              "      <th></th>\n",
              "      <th>Unnamed: 0</th>\n",
              "      <th>carat</th>\n",
              "      <th>cut</th>\n",
              "      <th>cut_ord</th>\n",
              "      <th>color</th>\n",
              "      <th>clarity</th>\n",
              "      <th>clarity_ord</th>\n",
              "      <th>pred_price</th>\n",
              "    </tr>\n",
              "  </thead>\n",
              "  <tbody>\n",
              "    <tr>\n",
              "      <th>0</th>\n",
              "      <td>1</td>\n",
              "      <td>1.22</td>\n",
              "      <td>Premium</td>\n",
              "      <td>4</td>\n",
              "      <td>G</td>\n",
              "      <td>SI1</td>\n",
              "      <td>3</td>\n",
              "      <td>6963.064946</td>\n",
              "    </tr>\n",
              "    <tr>\n",
              "      <th>1</th>\n",
              "      <td>2</td>\n",
              "      <td>1.01</td>\n",
              "      <td>Good</td>\n",
              "      <td>2</td>\n",
              "      <td>G</td>\n",
              "      <td>VS2</td>\n",
              "      <td>5</td>\n",
              "      <td>5801.593908</td>\n",
              "    </tr>\n",
              "    <tr>\n",
              "      <th>2</th>\n",
              "      <td>3</td>\n",
              "      <td>0.71</td>\n",
              "      <td>Very Good</td>\n",
              "      <td>3</td>\n",
              "      <td>I</td>\n",
              "      <td>VS2</td>\n",
              "      <td>5</td>\n",
              "      <td>3452.947494</td>\n",
              "    </tr>\n",
              "    <tr>\n",
              "      <th>3</th>\n",
              "      <td>4</td>\n",
              "      <td>1.01</td>\n",
              "      <td>Ideal</td>\n",
              "      <td>5</td>\n",
              "      <td>D</td>\n",
              "      <td>SI2</td>\n",
              "      <td>2</td>\n",
              "      <td>4909.324218</td>\n",
              "    </tr>\n",
              "    <tr>\n",
              "      <th>4</th>\n",
              "      <td>5</td>\n",
              "      <td>0.27</td>\n",
              "      <td>Ideal</td>\n",
              "      <td>5</td>\n",
              "      <td>H</td>\n",
              "      <td>VVS2</td>\n",
              "      <td>6</td>\n",
              "      <td>551.603143</td>\n",
              "    </tr>\n",
              "    <tr>\n",
              "      <th>5</th>\n",
              "      <td>6</td>\n",
              "      <td>0.52</td>\n",
              "      <td>Premium</td>\n",
              "      <td>4</td>\n",
              "      <td>G</td>\n",
              "      <td>VS1</td>\n",
              "      <td>4</td>\n",
              "      <td>1566.475099</td>\n",
              "    </tr>\n",
              "    <tr>\n",
              "      <th>6</th>\n",
              "      <td>7</td>\n",
              "      <td>1.01</td>\n",
              "      <td>Premium</td>\n",
              "      <td>4</td>\n",
              "      <td>F</td>\n",
              "      <td>SI1</td>\n",
              "      <td>3</td>\n",
              "      <td>5206.747448</td>\n",
              "    </tr>\n",
              "    <tr>\n",
              "      <th>7</th>\n",
              "      <td>8</td>\n",
              "      <td>0.59</td>\n",
              "      <td>Ideal</td>\n",
              "      <td>5</td>\n",
              "      <td>D</td>\n",
              "      <td>SI1</td>\n",
              "      <td>3</td>\n",
              "      <td>1854.491035</td>\n",
              "    </tr>\n",
              "    <tr>\n",
              "      <th>8</th>\n",
              "      <td>9</td>\n",
              "      <td>1.01</td>\n",
              "      <td>Good</td>\n",
              "      <td>2</td>\n",
              "      <td>E</td>\n",
              "      <td>SI1</td>\n",
              "      <td>3</td>\n",
              "      <td>4885.990282</td>\n",
              "    </tr>\n",
              "    <tr>\n",
              "      <th>9</th>\n",
              "      <td>10</td>\n",
              "      <td>2.03</td>\n",
              "      <td>Ideal</td>\n",
              "      <td>5</td>\n",
              "      <td>F</td>\n",
              "      <td>SI2</td>\n",
              "      <td>2</td>\n",
              "      <td>13440.009209</td>\n",
              "    </tr>\n",
              "  </tbody>\n",
              "</table>\n",
              "</div>"
            ],
            "text/plain": [
              "   Unnamed: 0  carat        cut  ...  clarity clarity_ord    pred_price\n",
              "0           1   1.22    Premium  ...      SI1           3   6963.064946\n",
              "1           2   1.01       Good  ...      VS2           5   5801.593908\n",
              "2           3   0.71  Very Good  ...      VS2           5   3452.947494\n",
              "3           4   1.01      Ideal  ...      SI2           2   4909.324218\n",
              "4           5   0.27      Ideal  ...     VVS2           6    551.603143\n",
              "5           6   0.52    Premium  ...      VS1           4   1566.475099\n",
              "6           7   1.01    Premium  ...      SI1           3   5206.747448\n",
              "7           8   0.59      Ideal  ...      SI1           3   1854.491035\n",
              "8           9   1.01       Good  ...      SI1           3   4885.990282\n",
              "9          10   2.03      Ideal  ...      SI2           2  13440.009209\n",
              "\n",
              "[10 rows x 8 columns]"
            ]
          },
          "metadata": {
            "tags": []
          },
          "execution_count": 8
        }
      ]
    },
    {
      "cell_type": "code",
      "metadata": {
        "colab": {
          "base_uri": "https://localhost:8080/",
          "height": 295
        },
        "id": "4cgLJe7G_Lun",
        "outputId": "f321c87b-da14-40c6-ad62-c0a42ab0f8af"
      },
      "source": [
        "fig, ax = plt.subplots()\n",
        "ax.scatter(df1[\"carat\"], df1[\"pred_price\"], color = \"r\", marker = \".\")\n",
        "ax.set_xlabel(\"carat\")\n",
        "ax.set_ylabel(\"predicted_price($)\")\n",
        "ax.set_title(\"Carat vs Predicted_Price of Diamonds\")\n",
        "plt.show()"
      ],
      "execution_count": 9,
      "outputs": [
        {
          "output_type": "display_data",
          "data": {
            "image/png": "[encoded data removed]",
            "text/plain": [
              "<Figure size 432x288 with 1 Axes>"
            ]
          },
          "metadata": {
            "tags": [],
            "needs_background": "light"
          }
        }
      ]
    },
    {
      "cell_type": "code",
      "metadata": {
        "colab": {
          "base_uri": "https://localhost:8080/"
        },
        "id": "rn1z6s9KxL18",
        "outputId": "a4381f92-9937-4371-9c92-49c546bb8254"
      },
      "source": [
        "sum_= df1['pred_price'].sum()\n",
        "sum_"
      ],
      "execution_count": 10,
      "outputs": [
        {
          "output_type": "execute_result",
          "data": {
            "text/plain": [
              "11730233.065594094"
            ]
          },
          "metadata": {
            "tags": []
          },
          "execution_count": 10
        }
      ]
    },
    {
      "cell_type": "code",
      "metadata": {
        "colab": {
          "base_uri": "https://localhost:8080/"
        },
        "id": "ywJci1SDzOFx",
        "outputId": "3983f60c-d2b3-43ed-f3a4-523340f80efd"
      },
      "source": [
        "margin_=0.7*sum_\n",
        "margin_"
      ],
      "execution_count": 11,
      "outputs": [
        {
          "output_type": "execute_result",
          "data": {
            "text/plain": [
              "8211163.145915865"
            ]
          },
          "metadata": {
            "tags": []
          },
          "execution_count": 11
        }
      ]
    },
    {
      "cell_type": "code",
      "metadata": {
        "colab": {
          "base_uri": "https://localhost:8080/",
          "height": 295
        },
        "id": "vsNbRhdx2jd8",
        "outputId": "cf838f62-70a6-40e2-add5-e26cb05ecba8"
      },
      "source": [
        "plt.style.use(\"seaborn-dark-palette\")\n",
        "fig, ax = plt.subplots()\n",
        "ax.scatter(df[\"carat\"], df[\"price\"], marker = \".\", label=\"price\")\n",
        "ax.scatter(df1[\"carat\"], df1[\"pred_price\"], color = \"r\", marker = \".\", label=\"predicted_price\")\n",
        "ax.set_xlabel(\"carat\")\n",
        "ax.set_ylabel(\"price($)\")\n",
        "ax.set_title(\"Carat vs Price of Diamonds\")\n",
        "ax.legend()\n",
        "plt.show()"
      ],
      "execution_count": 12,
      "outputs": [
        {
          "output_type": "display_data",
          "data": {
            "image/png": "[encoded data removed]",
            "text/plain": [
              "<Figure size 432x288 with 1 Axes>"
            ]
          },
          "metadata": {
            "tags": [],
            "needs_background": "light"
          }
        }
      ]
    }
  ]
}